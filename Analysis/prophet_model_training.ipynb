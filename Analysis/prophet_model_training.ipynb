{
 "cells": [
  {
   "cell_type": "code",
   "execution_count": 1,
   "id": "e761e2fa",
   "metadata": {},
   "outputs": [
    {
     "name": "stderr",
     "output_type": "stream",
     "text": [
      "c:\\My_Files\\Projects\\StockMarket\\.venv\\Lib\\site-packages\\tqdm\\auto.py:21: TqdmWarning: IProgress not found. Please update jupyter and ipywidgets. See https://ipywidgets.readthedocs.io/en/stable/user_install.html\n",
      "  from .autonotebook import tqdm as notebook_tqdm\n",
      "Importing plotly failed. Interactive plots will not work.\n"
     ]
    }
   ],
   "source": [
    "from sklearn.metrics import root_mean_squared_error, mean_absolute_error\n",
    "from prophet import Prophet\n",
    "from b_feature_engineering import df_prelag, df_clolag\n",
    "import pandas as pd\n",
    "import numpy as np"
   ]
  },
  {
   "cell_type": "code",
   "execution_count": null,
   "id": "b9448473",
   "metadata": {},
   "outputs": [],
   "source": [
    "# This function evaluate linear model for the initial train size and iterating forward creating models for each day\n",
    "# Prediction is done for each model using model created in each iteration\n",
    "\n",
    "def prophet_model(df, train_size=365, target='closing_price', index='date'):\n",
    "    preds = []\n",
    "    actuals = []\n",
    "    dates = []\n",
    "\n",
    "    # Ensure proper format\n",
    "    df = df[[index, target]].copy()\n",
    "    df[index] = pd.to_datetime(df[index])\n",
    "    df = df.rename(columns={index: 'ds', target: 'y'})\n",
    "    df = df['ds'].reset_index(drop=True)\n",
    "\n",
    "    for i in range(train_size, len(df)):\n",
    "        train_df = df.iloc[:i]\n",
    "        test_df = df.iloc[i:i+1]\n",
    "\n",
    "        model = Prophet(daily_seasonality=True)\n",
    "        model.fit(train_df)\n",
    "\n",
    "        # Forecast only 1 day ahead\n",
    "        future = model.make_future_dataframe(periods=1, freq='D')\n",
    "        forecast = model.predict(future)\n",
    "\n",
    "        # Match forecast date with test date\n",
    "        forecast_day = forecast[forecast['ds'] == test_df['ds'].values[0]]\n",
    "        if forecast_day.empty:\n",
    "            continue  # Skip if prediction date not found (can happen if Prophet skips weekends)\n",
    "\n",
    "        y_pred = forecast_day['yhat'].values[0]\n",
    "        y_true = test_df['y'].values[0]\n",
    "        pred_date = test_df['ds'].values[0]\n",
    "\n",
    "        preds.append(y_pred)\n",
    "        actuals.append(y_true)\n",
    "        dates.append(pred_date)\n",
    "\n",
    "    df_results = pd.DataFrame({\n",
    "        \"date\": dates,\n",
    "        \"actual\": actuals,\n",
    "        \"predicted\": preds\n",
    "    })\n",
    "\n",
    "    rmse = np.sqrt(root_mean_squared_error(actuals, preds))\n",
    "    print(f\"Walk-forward RMSE: {rmse:.4f}\")\n",
    "\n",
    "    return df_results\n",
    "\n"
   ]
  },
  {
   "cell_type": "code",
   "execution_count": 3,
   "id": "865bd67b",
   "metadata": {},
   "outputs": [
    {
     "ename": "ValueError",
     "evalue": "Dataframe must have columns \"ds\" and \"y\" with the dates and values respectively.",
     "output_type": "error",
     "traceback": [
      "\u001b[31m---------------------------------------------------------------------------\u001b[39m",
      "\u001b[31mValueError\u001b[39m                                Traceback (most recent call last)",
      "\u001b[36mCell\u001b[39m\u001b[36m \u001b[39m\u001b[32mIn[3]\u001b[39m\u001b[32m, line 2\u001b[39m\n\u001b[32m      1\u001b[39m df_eval1 = df_clolag.copy()\n\u001b[32m----> \u001b[39m\u001b[32m2\u001b[39m df_eval = \u001b[43mprophet_model\u001b[49m\u001b[43m(\u001b[49m\u001b[43mdf\u001b[49m\u001b[43m \u001b[49m\u001b[43m=\u001b[49m\u001b[43m \u001b[49m\u001b[43mdf_eval1\u001b[49m\u001b[43m,\u001b[49m\u001b[43m \u001b[49m\u001b[43mtarget\u001b[49m\u001b[43m \u001b[49m\u001b[43m=\u001b[49m\u001b[43m \u001b[49m\u001b[33;43m'\u001b[39;49m\u001b[33;43mclosing_price\u001b[39;49m\u001b[33;43m'\u001b[39;49m\u001b[43m)\u001b[49m\n\u001b[32m      3\u001b[39m rmse = root_mean_squared_error(df_eval.actual, df_eval.predicted)\n\u001b[32m      4\u001b[39m mae = mean_absolute_error(df_eval.actual, df_eval.predicted)\n",
      "\u001b[36mCell\u001b[39m\u001b[36m \u001b[39m\u001b[32mIn[2]\u001b[39m\u001b[32m, line 20\u001b[39m, in \u001b[36mprophet_model\u001b[39m\u001b[34m(df, train_size, target, index)\u001b[39m\n\u001b[32m     17\u001b[39m test_df = df.iloc[i:i+\u001b[32m1\u001b[39m]\n\u001b[32m     19\u001b[39m model = Prophet(daily_seasonality=\u001b[38;5;28;01mTrue\u001b[39;00m)\n\u001b[32m---> \u001b[39m\u001b[32m20\u001b[39m \u001b[43mmodel\u001b[49m\u001b[43m.\u001b[49m\u001b[43mfit\u001b[49m\u001b[43m(\u001b[49m\u001b[43mtrain_df\u001b[49m\u001b[43m)\u001b[49m\n\u001b[32m     22\u001b[39m \u001b[38;5;66;03m# Forecast only 1 day ahead\u001b[39;00m\n\u001b[32m     23\u001b[39m future = model.make_future_dataframe(periods=\u001b[32m1\u001b[39m, freq=\u001b[33m'\u001b[39m\u001b[33mD\u001b[39m\u001b[33m'\u001b[39m)\n",
      "\u001b[36mFile \u001b[39m\u001b[32mc:\\My_Files\\Projects\\StockMarket\\.venv\\Lib\\site-packages\\prophet\\forecaster.py:1217\u001b[39m, in \u001b[36mProphet.fit\u001b[39m\u001b[34m(self, df, **kwargs)\u001b[39m\n\u001b[32m   1213\u001b[39m \u001b[38;5;28;01mif\u001b[39;00m \u001b[38;5;28mself\u001b[39m.history \u001b[38;5;129;01mis\u001b[39;00m \u001b[38;5;129;01mnot\u001b[39;00m \u001b[38;5;28;01mNone\u001b[39;00m:\n\u001b[32m   1214\u001b[39m     \u001b[38;5;28;01mraise\u001b[39;00m \u001b[38;5;167;01mException\u001b[39;00m(\u001b[33m'\u001b[39m\u001b[33mProphet object can only be fit once. \u001b[39m\u001b[33m'\u001b[39m\n\u001b[32m   1215\u001b[39m                     \u001b[33m'\u001b[39m\u001b[33mInstantiate a new object.\u001b[39m\u001b[33m'\u001b[39m)\n\u001b[32m-> \u001b[39m\u001b[32m1217\u001b[39m model_inputs = \u001b[38;5;28;43mself\u001b[39;49m\u001b[43m.\u001b[49m\u001b[43mpreprocess\u001b[49m\u001b[43m(\u001b[49m\u001b[43mdf\u001b[49m\u001b[43m,\u001b[49m\u001b[43m \u001b[49m\u001b[43m*\u001b[49m\u001b[43m*\u001b[49m\u001b[43mkwargs\u001b[49m\u001b[43m)\u001b[49m\n\u001b[32m   1218\u001b[39m initial_params = \u001b[38;5;28mself\u001b[39m.calculate_initial_params(model_inputs.K)\n\u001b[32m   1220\u001b[39m dat = dataclasses.asdict(model_inputs)\n",
      "\u001b[36mFile \u001b[39m\u001b[32mc:\\My_Files\\Projects\\StockMarket\\.venv\\Lib\\site-packages\\prophet\\forecaster.py:1126\u001b[39m, in \u001b[36mProphet.preprocess\u001b[39m\u001b[34m(self, df, **kwargs)\u001b[39m\n\u001b[32m   1119\u001b[39m \u001b[38;5;250m\u001b[39m\u001b[33;03m\"\"\"\u001b[39;00m\n\u001b[32m   1120\u001b[39m \u001b[33;03mReformats historical data, standardizes y and extra regressors, sets seasonalities and changepoints.\u001b[39;00m\n\u001b[32m   1121\u001b[39m \n\u001b[32m   1122\u001b[39m \u001b[33;03mSaves the preprocessed data to the instantiated object, and also returns the relevant components\u001b[39;00m\n\u001b[32m   1123\u001b[39m \u001b[33;03mas a ModelInputData object.\u001b[39;00m\n\u001b[32m   1124\u001b[39m \u001b[33;03m\"\"\"\u001b[39;00m\n\u001b[32m   1125\u001b[39m \u001b[38;5;28;01mif\u001b[39;00m (\u001b[33m'\u001b[39m\u001b[33mds\u001b[39m\u001b[33m'\u001b[39m \u001b[38;5;129;01mnot\u001b[39;00m \u001b[38;5;129;01min\u001b[39;00m df) \u001b[38;5;129;01mor\u001b[39;00m (\u001b[33m'\u001b[39m\u001b[33my\u001b[39m\u001b[33m'\u001b[39m \u001b[38;5;129;01mnot\u001b[39;00m \u001b[38;5;129;01min\u001b[39;00m df):\n\u001b[32m-> \u001b[39m\u001b[32m1126\u001b[39m     \u001b[38;5;28;01mraise\u001b[39;00m \u001b[38;5;167;01mValueError\u001b[39;00m(\n\u001b[32m   1127\u001b[39m         \u001b[33m'\u001b[39m\u001b[33mDataframe must have columns \u001b[39m\u001b[33m\"\u001b[39m\u001b[33mds\u001b[39m\u001b[33m\"\u001b[39m\u001b[33m and \u001b[39m\u001b[33m\"\u001b[39m\u001b[33my\u001b[39m\u001b[33m\"\u001b[39m\u001b[33m with the dates and \u001b[39m\u001b[33m'\u001b[39m\n\u001b[32m   1128\u001b[39m         \u001b[33m'\u001b[39m\u001b[33mvalues respectively.\u001b[39m\u001b[33m'\u001b[39m\n\u001b[32m   1129\u001b[39m     )\n\u001b[32m   1130\u001b[39m history = df[df[\u001b[33m'\u001b[39m\u001b[33my\u001b[39m\u001b[33m'\u001b[39m].notnull()].copy()\n\u001b[32m   1131\u001b[39m \u001b[38;5;28;01mif\u001b[39;00m history.shape[\u001b[32m0\u001b[39m] < \u001b[32m2\u001b[39m:\n",
      "\u001b[31mValueError\u001b[39m: Dataframe must have columns \"ds\" and \"y\" with the dates and values respectively."
     ]
    }
   ],
   "source": [
    "df_eval1 = df_clolag.copy()\n",
    "df_eval = prophet_model(df = df_eval1, target = 'closing_price')\n",
    "rmse = root_mean_squared_error(df_eval.actual, df_eval.predicted)\n",
    "mae = mean_absolute_error(df_eval.actual, df_eval.predicted)"
   ]
  },
  {
   "cell_type": "code",
   "execution_count": 7,
   "id": "181fb00a",
   "metadata": {},
   "outputs": [
    {
     "name": "stdout",
     "output_type": "stream",
     "text": [
      "Walk-forward Root_Mean_Squared_Error (RMSE): 5.52\n",
      "Walk-forward Mean Absolute Error (MAE): 4.54\n"
     ]
    }
   ],
   "source": [
    "print(f\"Walk-forward Root_Mean_Squared_Error (RMSE): {rmse:.2f}\")\n",
    "print(f\"Walk-forward Mean Absolute Error (MAE): {mae:.2f}\")"
   ]
  }
 ],
 "metadata": {
  "kernelspec": {
   "display_name": ".venv (3.13.3)",
   "language": "python",
   "name": "python3"
  },
  "language_info": {
   "codemirror_mode": {
    "name": "ipython",
    "version": 3
   },
   "file_extension": ".py",
   "mimetype": "text/x-python",
   "name": "python",
   "nbconvert_exporter": "python",
   "pygments_lexer": "ipython3",
   "version": "3.13.3"
  }
 },
 "nbformat": 4,
 "nbformat_minor": 5
}
