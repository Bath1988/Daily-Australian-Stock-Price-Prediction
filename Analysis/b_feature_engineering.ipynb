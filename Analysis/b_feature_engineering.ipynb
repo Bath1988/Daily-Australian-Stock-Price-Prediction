{
 "cells": [
  {
   "cell_type": "code",
   "execution_count": 68,
   "id": "934e4f17",
   "metadata": {},
   "outputs": [],
   "source": [
    "import pandas as pd\n",
    "import numpy as np\n",
    "from pathlib import Path"
   ]
  },
  {
   "cell_type": "code",
   "execution_count": null,
   "id": "b97a214b",
   "metadata": {},
   "outputs": [],
   "source": [
    "# Load and clean data\n",
    "df = pd.read_csv(Path(\"../Data/output.csv\"))\n",
    "df = df.rename(columns={\"closing_price$\": \"closing_price\", \"date\": \"date\"})\n",
    "df[\"date\"] = pd.to_datetime(df[\"date\"])\n",
    "df[\"closing_price\"] = df[\"closing_price\"].astype(float)\n"
   ]
  },
  {
   "cell_type": "code",
   "execution_count": 76,
   "id": "533013cc",
   "metadata": {},
   "outputs": [],
   "source": [
    "# ---- Create features (lagged prices) ----\n",
    "def create_lags(data, lags=5, feature = ''):\n",
    "    df_feat = data.copy()\n",
    "    for lag in range(1, lags + 1):\n",
    "        df_feat[f\"{feature[0:3]}lag_{lag}\"] = df_feat[feature].shift(lag)\n",
    "    return df_feat"
   ]
  },
  {
   "cell_type": "code",
   "execution_count": null,
   "id": "491f6943",
   "metadata": {},
   "outputs": [],
   "source": [
    "# Remove rows with null values due to value shifts\n",
    "df_clolag = create_lags(df, lags=5, feature = 'closing_price').dropna().reset_index(drop=True)"
   ]
  },
  {
   "cell_type": "code",
   "execution_count": 78,
   "id": "e0ed3c7a",
   "metadata": {},
   "outputs": [
    {
     "data": {
      "text/html": [
       "<div>\n",
       "<style scoped>\n",
       "    .dataframe tbody tr th:only-of-type {\n",
       "        vertical-align: middle;\n",
       "    }\n",
       "\n",
       "    .dataframe tbody tr th {\n",
       "        vertical-align: top;\n",
       "    }\n",
       "\n",
       "    .dataframe thead th {\n",
       "        text-align: right;\n",
       "    }\n",
       "</style>\n",
       "<table border=\"1\" class=\"dataframe\">\n",
       "  <thead>\n",
       "    <tr style=\"text-align: right;\">\n",
       "      <th></th>\n",
       "      <th>date</th>\n",
       "      <th>closing_price</th>\n",
       "      <th>clolag_1</th>\n",
       "      <th>clolag_2</th>\n",
       "      <th>clolag_3</th>\n",
       "      <th>clolag_4</th>\n",
       "      <th>clolag_5</th>\n",
       "    </tr>\n",
       "  </thead>\n",
       "  <tbody>\n",
       "    <tr>\n",
       "      <th>0</th>\n",
       "      <td>2023-01-30</td>\n",
       "      <td>109.76</td>\n",
       "      <td>109.85</td>\n",
       "      <td>108.83</td>\n",
       "      <td>108.05</td>\n",
       "      <td>108.61</td>\n",
       "      <td>108.66</td>\n",
       "    </tr>\n",
       "  </tbody>\n",
       "</table>\n",
       "</div>"
      ],
      "text/plain": [
       "        date  closing_price  clolag_1  clolag_2  clolag_3  clolag_4  clolag_5\n",
       "0 2023-01-30         109.76    109.85    108.83    108.05    108.61    108.66"
      ]
     },
     "execution_count": 78,
     "metadata": {},
     "output_type": "execute_result"
    }
   ],
   "source": [
    "df_clolag.head(1)"
   ]
  },
  {
   "cell_type": "markdown",
   "id": "18dfc099",
   "metadata": {},
   "source": [
    "## Creating  lags with prior difference.\n",
    "\n",
    "Linear regression often works better with stationary time-series. To make the time series staionary the difference between closing stock price with the closing stock price of previous day can be used. By taking this difference trend component of the time series can be removed. Out of the the three baseline models namely 1. Average of five days ( 5 day moving average) 2. The previous day value and 3.Extrapolation method the second method was performed best as it gave minimum error. This is another reason that taking the difference between two days and use that as the target variable in linerar regression model.   "
   ]
  },
  {
   "cell_type": "code",
   "execution_count": null,
   "id": "d4f61805",
   "metadata": {},
   "outputs": [
    {
     "data": {
      "text/html": [
       "<div>\n",
       "<style scoped>\n",
       "    .dataframe tbody tr th:only-of-type {\n",
       "        vertical-align: middle;\n",
       "    }\n",
       "\n",
       "    .dataframe tbody tr th {\n",
       "        vertical-align: top;\n",
       "    }\n",
       "\n",
       "    .dataframe thead th {\n",
       "        text-align: right;\n",
       "    }\n",
       "</style>\n",
       "<table border=\"1\" class=\"dataframe\">\n",
       "  <thead>\n",
       "    <tr style=\"text-align: right;\">\n",
       "      <th></th>\n",
       "      <th>date</th>\n",
       "      <th>closing_price</th>\n",
       "      <th>clolag_1</th>\n",
       "      <th>price_diff</th>\n",
       "    </tr>\n",
       "  </thead>\n",
       "  <tbody>\n",
       "    <tr>\n",
       "      <th>0</th>\n",
       "      <td>2023-01-30</td>\n",
       "      <td>109.76</td>\n",
       "      <td>109.85</td>\n",
       "      <td>-0.09</td>\n",
       "    </tr>\n",
       "  </tbody>\n",
       "</table>\n",
       "</div>"
      ],
      "text/plain": [
       "        date  closing_price  clolag_1  price_diff\n",
       "0 2023-01-30         109.76    109.85       -0.09"
      ]
     },
     "execution_count": 79,
     "metadata": {},
     "output_type": "execute_result"
    }
   ],
   "source": [
    "# Create price difference column in a new dataframe\n",
    "df_prelag = df_clolag[['date', 'closing_price', 'clolag_1']].copy()\n",
    "df_prelag[\"price_diff\"] = df_prelag[\"closing_price\"] - df_prelag[\"clolag_1\"]\n",
    "df_prelag.head(1)"
   ]
  },
  {
   "cell_type": "code",
   "execution_count": 74,
   "id": "15253149",
   "metadata": {},
   "outputs": [
    {
     "data": {
      "text/html": [
       "<div>\n",
       "<style scoped>\n",
       "    .dataframe tbody tr th:only-of-type {\n",
       "        vertical-align: middle;\n",
       "    }\n",
       "\n",
       "    .dataframe tbody tr th {\n",
       "        vertical-align: top;\n",
       "    }\n",
       "\n",
       "    .dataframe thead th {\n",
       "        text-align: right;\n",
       "    }\n",
       "</style>\n",
       "<table border=\"1\" class=\"dataframe\">\n",
       "  <thead>\n",
       "    <tr style=\"text-align: right;\">\n",
       "      <th></th>\n",
       "      <th>date</th>\n",
       "      <th>closing_price</th>\n",
       "      <th>clolag_1</th>\n",
       "      <th>price_diff</th>\n",
       "      <th>prilag_1</th>\n",
       "      <th>prilag_2</th>\n",
       "      <th>prilag_3</th>\n",
       "      <th>prilag_4</th>\n",
       "      <th>prilag_5</th>\n",
       "    </tr>\n",
       "  </thead>\n",
       "  <tbody>\n",
       "    <tr>\n",
       "      <th>0</th>\n",
       "      <td>2023-02-06</td>\n",
       "      <td>110.75</td>\n",
       "      <td>111.15</td>\n",
       "      <td>-0.40</td>\n",
       "      <td>1.42</td>\n",
       "      <td>-0.42</td>\n",
       "      <td>0.09</td>\n",
       "      <td>0.30</td>\n",
       "      <td>-0.09</td>\n",
       "    </tr>\n",
       "    <tr>\n",
       "      <th>1</th>\n",
       "      <td>2023-02-07</td>\n",
       "      <td>110.30</td>\n",
       "      <td>110.75</td>\n",
       "      <td>-0.45</td>\n",
       "      <td>-0.40</td>\n",
       "      <td>1.42</td>\n",
       "      <td>-0.42</td>\n",
       "      <td>0.09</td>\n",
       "      <td>0.30</td>\n",
       "    </tr>\n",
       "    <tr>\n",
       "      <th>2</th>\n",
       "      <td>2023-02-08</td>\n",
       "      <td>110.32</td>\n",
       "      <td>110.30</td>\n",
       "      <td>0.02</td>\n",
       "      <td>-0.45</td>\n",
       "      <td>-0.40</td>\n",
       "      <td>1.42</td>\n",
       "      <td>-0.42</td>\n",
       "      <td>0.09</td>\n",
       "    </tr>\n",
       "    <tr>\n",
       "      <th>3</th>\n",
       "      <td>2023-02-09</td>\n",
       "      <td>110.21</td>\n",
       "      <td>110.32</td>\n",
       "      <td>-0.11</td>\n",
       "      <td>0.02</td>\n",
       "      <td>-0.45</td>\n",
       "      <td>-0.40</td>\n",
       "      <td>1.42</td>\n",
       "      <td>-0.42</td>\n",
       "    </tr>\n",
       "    <tr>\n",
       "      <th>4</th>\n",
       "      <td>2023-02-10</td>\n",
       "      <td>109.95</td>\n",
       "      <td>110.21</td>\n",
       "      <td>-0.26</td>\n",
       "      <td>-0.11</td>\n",
       "      <td>0.02</td>\n",
       "      <td>-0.45</td>\n",
       "      <td>-0.40</td>\n",
       "      <td>1.42</td>\n",
       "    </tr>\n",
       "    <tr>\n",
       "      <th>5</th>\n",
       "      <td>2023-02-13</td>\n",
       "      <td>109.30</td>\n",
       "      <td>109.95</td>\n",
       "      <td>-0.65</td>\n",
       "      <td>-0.26</td>\n",
       "      <td>-0.11</td>\n",
       "      <td>0.02</td>\n",
       "      <td>-0.45</td>\n",
       "      <td>-0.40</td>\n",
       "    </tr>\n",
       "  </tbody>\n",
       "</table>\n",
       "</div>"
      ],
      "text/plain": [
       "        date  closing_price  clolag_1  price_diff  prilag_1  prilag_2  \\\n",
       "0 2023-02-06         110.75    111.15       -0.40      1.42     -0.42   \n",
       "1 2023-02-07         110.30    110.75       -0.45     -0.40      1.42   \n",
       "2 2023-02-08         110.32    110.30        0.02     -0.45     -0.40   \n",
       "3 2023-02-09         110.21    110.32       -0.11      0.02     -0.45   \n",
       "4 2023-02-10         109.95    110.21       -0.26     -0.11      0.02   \n",
       "5 2023-02-13         109.30    109.95       -0.65     -0.26     -0.11   \n",
       "\n",
       "   prilag_3  prilag_4  prilag_5  \n",
       "0      0.09      0.30     -0.09  \n",
       "1     -0.42      0.09      0.30  \n",
       "2      1.42     -0.42      0.09  \n",
       "3     -0.40      1.42     -0.42  \n",
       "4     -0.45     -0.40      1.42  \n",
       "5      0.02     -0.45     -0.40  "
      ]
     },
     "execution_count": 74,
     "metadata": {},
     "output_type": "execute_result"
    }
   ],
   "source": [
    "df_prelag = create_lags(df_prelag, lags=5, feature = 'price_diff').dropna().reset_index(drop=True)\n",
    "df_prelag.head(6)"
   ]
  },
  {
   "cell_type": "markdown",
   "id": "5950af78",
   "metadata": {},
   "source": []
  }
 ],
 "metadata": {
  "kernelspec": {
   "display_name": ".venv (3.13.3)",
   "language": "python",
   "name": "python3"
  },
  "language_info": {
   "codemirror_mode": {
    "name": "ipython",
    "version": 3
   },
   "file_extension": ".py",
   "mimetype": "text/x-python",
   "name": "python",
   "nbconvert_exporter": "python",
   "pygments_lexer": "ipython3",
   "version": "3.13.3"
  }
 },
 "nbformat": 4,
 "nbformat_minor": 5
}
