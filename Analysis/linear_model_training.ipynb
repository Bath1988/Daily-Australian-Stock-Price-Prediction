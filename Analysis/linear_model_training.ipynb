{
 "cells": [
  {
   "cell_type": "markdown",
   "id": "39ec6aab",
   "metadata": {},
   "source": [
    "### Linear regression as predictive model"
   ]
  },
  {
   "cell_type": "code",
   "execution_count": null,
   "id": "b8c43cd1",
   "metadata": {},
   "outputs": [],
   "source": [
    "from sklearn.metrics import root_mean_squared_error, mean_absolute_error\n",
    "from sklearn.linear_model import LinearRegression\n",
    "from b_feature_engineering import df_prelag, df_clolag\n",
    "import pandas as pd"
   ]
  },
  {
   "cell_type": "markdown",
   "id": "2161ab1a",
   "metadata": {},
   "source": [
    "##### Predicting closing price using closing price lags as exploratory variables"
   ]
  },
  {
   "cell_type": "code",
   "execution_count": 2,
   "id": "1d449957",
   "metadata": {},
   "outputs": [
    {
     "data": {
      "text/html": [
       "<div>\n",
       "<style scoped>\n",
       "    .dataframe tbody tr th:only-of-type {\n",
       "        vertical-align: middle;\n",
       "    }\n",
       "\n",
       "    .dataframe tbody tr th {\n",
       "        vertical-align: top;\n",
       "    }\n",
       "\n",
       "    .dataframe thead th {\n",
       "        text-align: right;\n",
       "    }\n",
       "</style>\n",
       "<table border=\"1\" class=\"dataframe\">\n",
       "  <thead>\n",
       "    <tr style=\"text-align: right;\">\n",
       "      <th></th>\n",
       "      <th>date</th>\n",
       "      <th>closing_price</th>\n",
       "      <th>clolag_1</th>\n",
       "      <th>clolag_2</th>\n",
       "      <th>clolag_3</th>\n",
       "      <th>clolag_4</th>\n",
       "      <th>clolag_5</th>\n",
       "    </tr>\n",
       "  </thead>\n",
       "  <tbody>\n",
       "    <tr>\n",
       "      <th>0</th>\n",
       "      <td>2023-01-30</td>\n",
       "      <td>109.76</td>\n",
       "      <td>109.85</td>\n",
       "      <td>108.83</td>\n",
       "      <td>108.05</td>\n",
       "      <td>108.61</td>\n",
       "      <td>108.66</td>\n",
       "    </tr>\n",
       "    <tr>\n",
       "      <th>1</th>\n",
       "      <td>2023-01-31</td>\n",
       "      <td>110.06</td>\n",
       "      <td>109.76</td>\n",
       "      <td>109.85</td>\n",
       "      <td>108.83</td>\n",
       "      <td>108.05</td>\n",
       "      <td>108.61</td>\n",
       "    </tr>\n",
       "  </tbody>\n",
       "</table>\n",
       "</div>"
      ],
      "text/plain": [
       "        date  closing_price  clolag_1  clolag_2  clolag_3  clolag_4  clolag_5\n",
       "0 2023-01-30         109.76    109.85    108.83    108.05    108.61    108.66\n",
       "1 2023-01-31         110.06    109.76    109.85    108.83    108.05    108.61"
      ]
     },
     "execution_count": 2,
     "metadata": {},
     "output_type": "execute_result"
    }
   ],
   "source": [
    "df_clolag.head(2)"
   ]
  },
  {
   "cell_type": "code",
   "execution_count": 3,
   "id": "e46d26ee",
   "metadata": {},
   "outputs": [],
   "source": [
    "# This function evaluate linear model for the initial train size and iterating forward creating models for each day\n",
    "# Prediction is done for each model using model created in each iteration\n",
    "def linear_model(df, train_size = 365, target = '', index = 'date'):\n",
    "    preds = []\n",
    "    actuals = []\n",
    "    dates = []\n",
    "    X = df.drop(columns= [index, target])\n",
    "    Y = df[target]\n",
    "  \n",
    "    for i in range(train_size, len(df)):\n",
    "        X_train = X.iloc[:i]\n",
    "        y_train = Y.iloc[:i]\n",
    "        X_test = X.iloc[i:i+1]\n",
    "        y_test = Y.iloc[i:i+1]\n",
    "\n",
    "        # simple model: linear regression\n",
    "        model = LinearRegression()\n",
    "        model.fit(X_train, y_train)\n",
    "        y_pred = model.predict(X_test)\n",
    "\n",
    "        preds.append(y_pred[0])\n",
    "        actuals.append(y_test.values[0])\n",
    "        dates.append(df.loc[i,index])\n",
    "\n",
    "    df_results = (pd.DataFrame({\n",
    "                    \"date\": dates,\n",
    "                    \"actual\": actuals,\n",
    "                    \"predicted\": preds }))\n",
    "    return df_results\n",
    "\n"
   ]
  },
  {
   "cell_type": "code",
   "execution_count": null,
   "id": "1ec882cf",
   "metadata": {},
   "outputs": [
    {
     "data": {
      "text/html": [
       "<div>\n",
       "<style scoped>\n",
       "    .dataframe tbody tr th:only-of-type {\n",
       "        vertical-align: middle;\n",
       "    }\n",
       "\n",
       "    .dataframe tbody tr th {\n",
       "        vertical-align: top;\n",
       "    }\n",
       "\n",
       "    .dataframe thead th {\n",
       "        text-align: right;\n",
       "    }\n",
       "</style>\n",
       "<table border=\"1\" class=\"dataframe\">\n",
       "  <thead>\n",
       "    <tr style=\"text-align: right;\">\n",
       "      <th></th>\n",
       "      <th>date</th>\n",
       "      <th>actual</th>\n",
       "      <th>predicted</th>\n",
       "    </tr>\n",
       "  </thead>\n",
       "  <tbody>\n",
       "    <tr>\n",
       "      <th>0</th>\n",
       "      <td>2024-07-10</td>\n",
       "      <td>128.54</td>\n",
       "      <td>128.869158</td>\n",
       "    </tr>\n",
       "    <tr>\n",
       "      <th>1</th>\n",
       "      <td>2024-07-11</td>\n",
       "      <td>129.92</td>\n",
       "      <td>128.442528</td>\n",
       "    </tr>\n",
       "  </tbody>\n",
       "</table>\n",
       "</div>"
      ],
      "text/plain": [
       "        date  actual   predicted\n",
       "0 2024-07-10  128.54  128.869158\n",
       "1 2024-07-11  129.92  128.442528"
      ]
     },
     "execution_count": 4,
     "metadata": {},
     "output_type": "execute_result"
    }
   ],
   "source": [
    "df_eval1 = df_clolag.copy()\n",
    "df_eval = linear_model(df = df_eval1, target = 'closing_price')\n",
    "df_eval.head(2)"
   ]
  },
  {
   "cell_type": "code",
   "execution_count": 5,
   "id": "d7ab45cf",
   "metadata": {},
   "outputs": [
    {
     "name": "stdout",
     "output_type": "stream",
     "text": [
      "Walk-forward Root_Mean_Squared_Error (RMSE): 2.13\n",
      "Walk-forward Mean Absolute Error (MAE): 1.60\n"
     ]
    }
   ],
   "source": [
    "# ---- Evaluate performance ----\n",
    "rmse = root_mean_squared_error(df_eval.actual, df_eval.predicted)\n",
    "print(f\"Walk-forward Root_Mean_Squared_Error (RMSE): {rmse:.2f}\")\n",
    "\n",
    "mae = mean_absolute_error(df_eval.actual, df_eval.predicted)\n",
    "print(f\"Walk-forward Mean Absolute Error (MAE): {mae:.2f}\")"
   ]
  },
  {
   "cell_type": "markdown",
   "id": "c2dd9b1e",
   "metadata": {},
   "source": [
    "##### Linear regression after removing the trend component"
   ]
  },
  {
   "cell_type": "code",
   "execution_count": 6,
   "id": "9eee4e93",
   "metadata": {},
   "outputs": [
    {
     "data": {
      "text/html": [
       "<div>\n",
       "<style scoped>\n",
       "    .dataframe tbody tr th:only-of-type {\n",
       "        vertical-align: middle;\n",
       "    }\n",
       "\n",
       "    .dataframe tbody tr th {\n",
       "        vertical-align: top;\n",
       "    }\n",
       "\n",
       "    .dataframe thead th {\n",
       "        text-align: right;\n",
       "    }\n",
       "</style>\n",
       "<table border=\"1\" class=\"dataframe\">\n",
       "  <thead>\n",
       "    <tr style=\"text-align: right;\">\n",
       "      <th></th>\n",
       "      <th>date</th>\n",
       "      <th>closing_price</th>\n",
       "      <th>clolag_1</th>\n",
       "      <th>price_diff</th>\n",
       "      <th>prilag_1</th>\n",
       "      <th>prilag_2</th>\n",
       "      <th>prilag_3</th>\n",
       "      <th>prilag_4</th>\n",
       "      <th>prilag_5</th>\n",
       "    </tr>\n",
       "  </thead>\n",
       "  <tbody>\n",
       "    <tr>\n",
       "      <th>0</th>\n",
       "      <td>2023-02-06</td>\n",
       "      <td>110.75</td>\n",
       "      <td>111.15</td>\n",
       "      <td>-0.4</td>\n",
       "      <td>1.42</td>\n",
       "      <td>-0.42</td>\n",
       "      <td>0.09</td>\n",
       "      <td>0.3</td>\n",
       "      <td>-0.09</td>\n",
       "    </tr>\n",
       "  </tbody>\n",
       "</table>\n",
       "</div>"
      ],
      "text/plain": [
       "        date  closing_price  clolag_1  price_diff  prilag_1  prilag_2  \\\n",
       "0 2023-02-06         110.75    111.15        -0.4      1.42     -0.42   \n",
       "\n",
       "   prilag_3  prilag_4  prilag_5  \n",
       "0      0.09       0.3     -0.09  "
      ]
     },
     "execution_count": 6,
     "metadata": {},
     "output_type": "execute_result"
    }
   ],
   "source": [
    "df_eval2 = df_prelag.copy()\n",
    "df_eval2.head(1)"
   ]
  },
  {
   "cell_type": "code",
   "execution_count": 7,
   "id": "fb46fc99",
   "metadata": {},
   "outputs": [
    {
     "data": {
      "text/html": [
       "<div>\n",
       "<style scoped>\n",
       "    .dataframe tbody tr th:only-of-type {\n",
       "        vertical-align: middle;\n",
       "    }\n",
       "\n",
       "    .dataframe tbody tr th {\n",
       "        vertical-align: top;\n",
       "    }\n",
       "\n",
       "    .dataframe thead th {\n",
       "        text-align: right;\n",
       "    }\n",
       "</style>\n",
       "<table border=\"1\" class=\"dataframe\">\n",
       "  <thead>\n",
       "    <tr style=\"text-align: right;\">\n",
       "      <th></th>\n",
       "      <th>date</th>\n",
       "      <th>actual</th>\n",
       "      <th>predicted</th>\n",
       "    </tr>\n",
       "  </thead>\n",
       "  <tbody>\n",
       "    <tr>\n",
       "      <th>0</th>\n",
       "      <td>2024-07-17</td>\n",
       "      <td>1.06</td>\n",
       "      <td>0.025177</td>\n",
       "    </tr>\n",
       "    <tr>\n",
       "      <th>1</th>\n",
       "      <td>2024-07-18</td>\n",
       "      <td>-0.84</td>\n",
       "      <td>0.069032</td>\n",
       "    </tr>\n",
       "  </tbody>\n",
       "</table>\n",
       "</div>"
      ],
      "text/plain": [
       "        date  actual  predicted\n",
       "0 2024-07-17    1.06   0.025177\n",
       "1 2024-07-18   -0.84   0.069032"
      ]
     },
     "execution_count": 7,
     "metadata": {},
     "output_type": "execute_result"
    }
   ],
   "source": [
    "df_eval = linear_model(df = df_prelag.drop(columns=[\"closing_price\", \"clolag_1\"]), target = 'price_diff')\n",
    "df_eval.head(2)"
   ]
  },
  {
   "cell_type": "code",
   "execution_count": 8,
   "id": "56fdcd2c",
   "metadata": {},
   "outputs": [
    {
     "name": "stdout",
     "output_type": "stream",
     "text": [
      "Walk-forward Root_Mean_Squared_Error (RMSE): 2.14\n",
      "Walk-forward Mean Absolute Error (MAE): 1.61\n"
     ]
    }
   ],
   "source": [
    "# ---- Evaluate performance ----\n",
    "rmse = root_mean_squared_error(df_eval.actual, df_eval.predicted)\n",
    "print(f\"Walk-forward Root_Mean_Squared_Error (RMSE): {rmse:.2f}\")\n",
    "\n",
    "mae = mean_absolute_error(df_eval.actual, df_eval.predicted)\n",
    "print(f\"Walk-forward Mean Absolute Error (MAE): {mae:.2f}\")"
   ]
  },
  {
   "cell_type": "markdown",
   "id": "c1fe3ec3",
   "metadata": {},
   "source": [
    "The results from both regression models are the same. The prediction accuracy of both models are less than the first base line model. "
   ]
  },
  {
   "cell_type": "markdown",
   "id": "8cc24d32",
   "metadata": {},
   "source": []
  }
 ],
 "metadata": {
  "kernelspec": {
   "display_name": ".venv (3.13.3)",
   "language": "python",
   "name": "python3"
  },
  "language_info": {
   "codemirror_mode": {
    "name": "ipython",
    "version": 3
   },
   "file_extension": ".py",
   "mimetype": "text/x-python",
   "name": "python",
   "nbconvert_exporter": "python",
   "pygments_lexer": "ipython3",
   "version": "3.13.3"
  }
 },
 "nbformat": 4,
 "nbformat_minor": 5
}
