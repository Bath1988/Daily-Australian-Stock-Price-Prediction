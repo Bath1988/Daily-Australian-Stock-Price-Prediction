{
 "cells": [
  {
   "cell_type": "markdown",
   "id": "f4145e0a",
   "metadata": {},
   "source": [
    "# Previous Day Baseline Model for Stock Price Prediction\n",
    "This notebook loads daily stock closing prices and uses the previous day's price as the prediction (a simple naive baseline). It calculates RMSE and plots the actual vs predicted values with trend."
   ]
  },
  {
   "cell_type": "code",
   "execution_count": 1,
   "id": "50179def",
   "metadata": {},
   "outputs": [],
   "source": [
    "from sklearn.metrics import root_mean_squared_error, mean_absolute_error\n",
    "from b_feature_engineering import df_prelag, df_clolag"
   ]
  },
  {
   "cell_type": "markdown",
   "id": "327c9b7c",
   "metadata": {},
   "source": [
    "#### Model 1"
   ]
  },
  {
   "cell_type": "code",
   "execution_count": 2,
   "id": "7a1d81b4",
   "metadata": {},
   "outputs": [
    {
     "data": {
      "text/html": [
       "<div>\n",
       "<style scoped>\n",
       "    .dataframe tbody tr th:only-of-type {\n",
       "        vertical-align: middle;\n",
       "    }\n",
       "\n",
       "    .dataframe tbody tr th {\n",
       "        vertical-align: top;\n",
       "    }\n",
       "\n",
       "    .dataframe thead th {\n",
       "        text-align: right;\n",
       "    }\n",
       "</style>\n",
       "<table border=\"1\" class=\"dataframe\">\n",
       "  <thead>\n",
       "    <tr style=\"text-align: right;\">\n",
       "      <th></th>\n",
       "      <th>date</th>\n",
       "      <th>closing_price</th>\n",
       "      <th>clolag_1</th>\n",
       "      <th>clolag_2</th>\n",
       "      <th>clolag_3</th>\n",
       "      <th>clolag_4</th>\n",
       "      <th>clolag_5</th>\n",
       "    </tr>\n",
       "  </thead>\n",
       "  <tbody>\n",
       "    <tr>\n",
       "      <th>0</th>\n",
       "      <td>2023-01-30</td>\n",
       "      <td>109.76</td>\n",
       "      <td>109.85</td>\n",
       "      <td>108.83</td>\n",
       "      <td>108.05</td>\n",
       "      <td>108.61</td>\n",
       "      <td>108.66</td>\n",
       "    </tr>\n",
       "  </tbody>\n",
       "</table>\n",
       "</div>"
      ],
      "text/plain": [
       "        date  closing_price  clolag_1  clolag_2  clolag_3  clolag_4  clolag_5\n",
       "0 2023-01-30         109.76    109.85    108.83    108.05    108.61    108.66"
      ]
     },
     "execution_count": 2,
     "metadata": {},
     "output_type": "execute_result"
    }
   ],
   "source": [
    "# Import feature engineered data set with closing price lags for this analysis\n",
    "df_eval2 = df_clolag.copy()\n",
    "df_eval2.head(1)"
   ]
  },
  {
   "cell_type": "code",
   "execution_count": 4,
   "id": "1efdbd4c",
   "metadata": {},
   "outputs": [
    {
     "name": "stdout",
     "output_type": "stream",
     "text": [
      "RMSE using previous day baseline: 1.615091\n",
      " MAE using previous day baseline: 1.156646\n"
     ]
    }
   ],
   "source": [
    "# In this first base line prediction, the day before closing stock price used as the prediction.\n",
    "# Root mean squired error as rmse and Mean absolute error as mae were calculated as the error metrics.\n",
    "rmse = root_mean_squared_error(df_eval2['closing_price'], df_eval2['clolag_1'])\n",
    "print(f'RMSE using previous day baseline: {rmse:.6f}')\n",
    "\n",
    "mae = mean_absolute_error(df_eval2['closing_price'], df_eval2['clolag_1'])\n",
    "print(f' MAE using previous day baseline: {mae:.6f}')"
   ]
  },
  {
   "cell_type": "markdown",
   "id": "69ef6d7c",
   "metadata": {},
   "source": [
    "#### Model 2"
   ]
  },
  {
   "cell_type": "code",
   "execution_count": 24,
   "id": "1d3df484",
   "metadata": {},
   "outputs": [
    {
     "data": {
      "text/html": [
       "<div>\n",
       "<style scoped>\n",
       "    .dataframe tbody tr th:only-of-type {\n",
       "        vertical-align: middle;\n",
       "    }\n",
       "\n",
       "    .dataframe tbody tr th {\n",
       "        vertical-align: top;\n",
       "    }\n",
       "\n",
       "    .dataframe thead th {\n",
       "        text-align: right;\n",
       "    }\n",
       "</style>\n",
       "<table border=\"1\" class=\"dataframe\">\n",
       "  <thead>\n",
       "    <tr style=\"text-align: right;\">\n",
       "      <th></th>\n",
       "      <th>date</th>\n",
       "      <th>closing_price</th>\n",
       "      <th>clolag_1</th>\n",
       "      <th>clolag_2</th>\n",
       "      <th>clolag_3</th>\n",
       "      <th>clolag_4</th>\n",
       "      <th>clolag_5</th>\n",
       "      <th>avg</th>\n",
       "    </tr>\n",
       "  </thead>\n",
       "  <tbody>\n",
       "    <tr>\n",
       "      <th>0</th>\n",
       "      <td>2023-01-30</td>\n",
       "      <td>109.76</td>\n",
       "      <td>109.85</td>\n",
       "      <td>108.83</td>\n",
       "      <td>108.05</td>\n",
       "      <td>108.61</td>\n",
       "      <td>108.66</td>\n",
       "      <td>108.8</td>\n",
       "    </tr>\n",
       "  </tbody>\n",
       "</table>\n",
       "</div>"
      ],
      "text/plain": [
       "        date  closing_price  clolag_1  clolag_2  clolag_3  clolag_4  clolag_5  \\\n",
       "0 2023-01-30         109.76    109.85    108.83    108.05    108.61    108.66   \n",
       "\n",
       "     avg  \n",
       "0  108.8  "
      ]
     },
     "execution_count": 24,
     "metadata": {},
     "output_type": "execute_result"
    }
   ],
   "source": [
    "# In this second base line prediction, the previous five days average used as the prediction.\n",
    "# Root mean squired error as rmse and Mean absolute error as mae were calculated as the error metrics.\n",
    "\n",
    "df_eval2['avg'] = df_eval2[['clolag_1', 'clolag_2', 'clolag_3', 'clolag_4', 'clolag_5']].mean(axis=1)\n",
    "df_eval2.head(1)"
   ]
  },
  {
   "cell_type": "code",
   "execution_count": 26,
   "id": "2857a684",
   "metadata": {},
   "outputs": [
    {
     "name": "stdout",
     "output_type": "stream",
     "text": [
      "RMSE five day average: 2.423932\n",
      " MAE five day average: 1.789370\n"
     ]
    }
   ],
   "source": [
    "rmse = root_mean_squared_error(df_eval2['closing_price'], df_eval2['avg'])\n",
    "print(f'RMSE five day average: {rmse:.6f}')\n",
    "\n",
    "mae = mean_absolute_error(df_eval2['closing_price'], df_eval2['avg'])\n",
    "print(f' MAE five day average: {mae:.6f}')"
   ]
  },
  {
   "cell_type": "markdown",
   "id": "b55cebc5",
   "metadata": {},
   "source": [
    "#### Model 3"
   ]
  },
  {
   "cell_type": "code",
   "execution_count": 27,
   "id": "f02bb9d4",
   "metadata": {},
   "outputs": [
    {
     "data": {
      "text/html": [
       "<div>\n",
       "<style scoped>\n",
       "    .dataframe tbody tr th:only-of-type {\n",
       "        vertical-align: middle;\n",
       "    }\n",
       "\n",
       "    .dataframe tbody tr th {\n",
       "        vertical-align: top;\n",
       "    }\n",
       "\n",
       "    .dataframe thead th {\n",
       "        text-align: right;\n",
       "    }\n",
       "</style>\n",
       "<table border=\"1\" class=\"dataframe\">\n",
       "  <thead>\n",
       "    <tr style=\"text-align: right;\">\n",
       "      <th></th>\n",
       "      <th>date</th>\n",
       "      <th>closing_price</th>\n",
       "      <th>clolag_1</th>\n",
       "      <th>price_diff</th>\n",
       "      <th>prilag_1</th>\n",
       "      <th>prilag_2</th>\n",
       "      <th>prilag_3</th>\n",
       "      <th>prilag_4</th>\n",
       "      <th>prilag_5</th>\n",
       "    </tr>\n",
       "  </thead>\n",
       "  <tbody>\n",
       "    <tr>\n",
       "      <th>0</th>\n",
       "      <td>2023-02-06</td>\n",
       "      <td>110.75</td>\n",
       "      <td>111.15</td>\n",
       "      <td>-0.4</td>\n",
       "      <td>1.42</td>\n",
       "      <td>-0.42</td>\n",
       "      <td>0.09</td>\n",
       "      <td>0.3</td>\n",
       "      <td>-0.09</td>\n",
       "    </tr>\n",
       "  </tbody>\n",
       "</table>\n",
       "</div>"
      ],
      "text/plain": [
       "        date  closing_price  clolag_1  price_diff  prilag_1  prilag_2  \\\n",
       "0 2023-02-06         110.75    111.15        -0.4      1.42     -0.42   \n",
       "\n",
       "   prilag_3  prilag_4  prilag_5  \n",
       "0      0.09       0.3     -0.09  "
      ]
     },
     "execution_count": 27,
     "metadata": {},
     "output_type": "execute_result"
    }
   ],
   "source": [
    "# Import feature engineered data set with price difference lags for this analysis\n",
    "df_eval3 = df_prelag.copy()\n",
    "df_eval3.head(1)"
   ]
  },
  {
   "cell_type": "code",
   "execution_count": 29,
   "id": "46d799f7",
   "metadata": {},
   "outputs": [
    {
     "data": {
      "text/html": [
       "<div>\n",
       "<style scoped>\n",
       "    .dataframe tbody tr th:only-of-type {\n",
       "        vertical-align: middle;\n",
       "    }\n",
       "\n",
       "    .dataframe tbody tr th {\n",
       "        vertical-align: top;\n",
       "    }\n",
       "\n",
       "    .dataframe thead th {\n",
       "        text-align: right;\n",
       "    }\n",
       "</style>\n",
       "<table border=\"1\" class=\"dataframe\">\n",
       "  <thead>\n",
       "    <tr style=\"text-align: right;\">\n",
       "      <th></th>\n",
       "      <th>date</th>\n",
       "      <th>closing_price</th>\n",
       "      <th>clolag_1</th>\n",
       "      <th>price_diff</th>\n",
       "      <th>prilag_1</th>\n",
       "      <th>prilag_2</th>\n",
       "      <th>prilag_3</th>\n",
       "      <th>prilag_4</th>\n",
       "      <th>prilag_5</th>\n",
       "      <th>predict</th>\n",
       "    </tr>\n",
       "  </thead>\n",
       "  <tbody>\n",
       "    <tr>\n",
       "      <th>0</th>\n",
       "      <td>2023-02-06</td>\n",
       "      <td>110.75</td>\n",
       "      <td>111.15</td>\n",
       "      <td>-0.4</td>\n",
       "      <td>1.42</td>\n",
       "      <td>-0.42</td>\n",
       "      <td>0.09</td>\n",
       "      <td>0.3</td>\n",
       "      <td>-0.09</td>\n",
       "      <td>112.57</td>\n",
       "    </tr>\n",
       "  </tbody>\n",
       "</table>\n",
       "</div>"
      ],
      "text/plain": [
       "        date  closing_price  clolag_1  price_diff  prilag_1  prilag_2  \\\n",
       "0 2023-02-06         110.75    111.15        -0.4      1.42     -0.42   \n",
       "\n",
       "   prilag_3  prilag_4  prilag_5  predict  \n",
       "0      0.09       0.3     -0.09   112.57  "
      ]
     },
     "execution_count": 29,
     "metadata": {},
     "output_type": "execute_result"
    }
   ],
   "source": [
    "# In this base line prediction, the difference between previous two days added to the previous day value.\n",
    "# Root mean squired error as rmse and Mean absolute error as mae were calculated as the error metrics.\n",
    "\n",
    "df_eval3['predict'] = df_eval3['clolag_1'] + df_eval3['prilag_1']\n",
    "df_eval3.head(1)"
   ]
  },
  {
   "cell_type": "code",
   "execution_count": 30,
   "id": "f3fd032a",
   "metadata": {},
   "outputs": [
    {
     "name": "stdout",
     "output_type": "stream",
     "text": [
      "RMSE using previous two days difference: 2.251344\n",
      " MAE using previous two days difference: 1.625349\n"
     ]
    }
   ],
   "source": [
    "rmse = root_mean_squared_error(df_eval3['closing_price'], df_eval3['predict'])\n",
    "print(f'RMSE using previous two days difference: {rmse:.6f}')\n",
    "\n",
    "mae = mean_absolute_error(df_eval3['closing_price'], df_eval3['predict'])\n",
    "print(f' MAE using previous two days difference: {mae:.6f}')"
   ]
  },
  {
   "cell_type": "markdown",
   "id": "16d4a5f0",
   "metadata": {},
   "source": [
    "From above three analysis the previous day stock price as the prediction gave the smallest error in both metrices. \n",
    "Therefore, model 1 selected as the baseline model. "
   ]
  },
  {
   "cell_type": "markdown",
   "id": "667b44d0",
   "metadata": {},
   "source": []
  }
 ],
 "metadata": {
  "kernelspec": {
   "display_name": ".venv (3.13.3)",
   "language": "python",
   "name": "python3"
  },
  "language_info": {
   "codemirror_mode": {
    "name": "ipython",
    "version": 3
   },
   "file_extension": ".py",
   "mimetype": "text/x-python",
   "name": "python",
   "nbconvert_exporter": "python",
   "pygments_lexer": "ipython3",
   "version": "3.13.3"
  }
 },
 "nbformat": 4,
 "nbformat_minor": 5
}
