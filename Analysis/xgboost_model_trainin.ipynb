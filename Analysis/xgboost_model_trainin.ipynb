{
 "cells": [
  {
   "cell_type": "code",
   "execution_count": 8,
   "id": "89ee00d9",
   "metadata": {},
   "outputs": [],
   "source": [
    "from sklearn.metrics import root_mean_squared_error, mean_absolute_error\n",
    "from xgboost import XGBRegressor\n",
    "from b_feature_engineering import df_prelag, df_clolag\n",
    "import pandas as pd"
   ]
  },
  {
   "cell_type": "code",
   "execution_count": 9,
   "id": "4bdb7a03",
   "metadata": {},
   "outputs": [],
   "source": [
    "# This function evaluate xgboost model for the initial train size and iterating forward creating models for each day\n",
    "# Prediction is done for each model using model created in each iteration\n",
    "def xgboost_model(df, train_size = 365, target = '', index = 'date'):\n",
    "    preds = []\n",
    "    actuals = []\n",
    "    dates = []\n",
    "    X = df.drop(columns= [index, target])\n",
    "    Y = df[target]\n",
    "    model = (XGBRegressor(\n",
    "            objective=\"reg:squarederror\",\n",
    "            max_depth=7,\n",
    "            learning_rate=0.001,\n",
    "            n_estimators=150,\n",
    "            random_state=42))\n",
    "    \n",
    "    for i in range(train_size, len(df)):\n",
    "        X_train = X.iloc[:i]\n",
    "        y_train = Y.iloc[:i]\n",
    "        X_test = X.iloc[i:i+1]\n",
    "        y_test = Y.iloc[i:i+1]\n",
    "\n",
    "        # simple model: linear regression\n",
    "        model.fit(X_train, y_train)\n",
    "        y_pred = model.predict(X_test)\n",
    "\n",
    "        preds.append(y_pred[0])\n",
    "        actuals.append(y_test.values[0])\n",
    "        dates.append(df.loc[i,index])\n",
    "\n",
    "    df_results = (pd.DataFrame({\n",
    "                    \"date\": dates,\n",
    "                    \"actual\": actuals,\n",
    "                    \"predicted\": preds }))\n",
    "    return df_results"
   ]
  },
  {
   "cell_type": "code",
   "execution_count": 10,
   "id": "8fe90e8a",
   "metadata": {},
   "outputs": [
    {
     "data": {
      "text/html": [
       "<div>\n",
       "<style scoped>\n",
       "    .dataframe tbody tr th:only-of-type {\n",
       "        vertical-align: middle;\n",
       "    }\n",
       "\n",
       "    .dataframe tbody tr th {\n",
       "        vertical-align: top;\n",
       "    }\n",
       "\n",
       "    .dataframe thead th {\n",
       "        text-align: right;\n",
       "    }\n",
       "</style>\n",
       "<table border=\"1\" class=\"dataframe\">\n",
       "  <thead>\n",
       "    <tr style=\"text-align: right;\">\n",
       "      <th></th>\n",
       "      <th>date</th>\n",
       "      <th>actual</th>\n",
       "      <th>predicted</th>\n",
       "    </tr>\n",
       "  </thead>\n",
       "  <tbody>\n",
       "    <tr>\n",
       "      <th>0</th>\n",
       "      <td>2024-07-17</td>\n",
       "      <td>1.06</td>\n",
       "      <td>0.037638</td>\n",
       "    </tr>\n",
       "    <tr>\n",
       "      <th>1</th>\n",
       "      <td>2024-07-18</td>\n",
       "      <td>-0.84</td>\n",
       "      <td>0.081081</td>\n",
       "    </tr>\n",
       "  </tbody>\n",
       "</table>\n",
       "</div>"
      ],
      "text/plain": [
       "        date  actual  predicted\n",
       "0 2024-07-17    1.06   0.037638\n",
       "1 2024-07-18   -0.84   0.081081"
      ]
     },
     "execution_count": 10,
     "metadata": {},
     "output_type": "execute_result"
    }
   ],
   "source": [
    "df = df_prelag.drop(columns=[\"closing_price\", \"clolag_1\"]).copy()\n",
    "df_eval = xgboost_model(df = df , target = 'price_diff')\n",
    "df_eval.head(2)"
   ]
  },
  {
   "cell_type": "code",
   "execution_count": 12,
   "id": "8c692833",
   "metadata": {},
   "outputs": [
    {
     "name": "stdout",
     "output_type": "stream",
     "text": [
      "Walk-forward Root_Mean_Squared_Error (RMSE): 2.13\n",
      "Walk-forward Mean Absolute Error (MAE): 1.59\n"
     ]
    }
   ],
   "source": [
    "# ---- Evaluate performance ----\n",
    "rmse = root_mean_squared_error(df_eval.actual, df_eval.predicted)\n",
    "print(f\"Walk-forward Root_Mean_Squared_Error (RMSE): {rmse:.2f}\")\n",
    "\n",
    "mae = mean_absolute_error(df_eval.actual, df_eval.predicted)\n",
    "print(f\"Walk-forward Mean Absolute Error (MAE): {mae:.2f}\")"
   ]
  },
  {
   "cell_type": "markdown",
   "id": "51fbcdb6",
   "metadata": {},
   "source": [
    "XGBOOST model performed similar to the linear model but less accurate than first base line model."
   ]
  },
  {
   "cell_type": "markdown",
   "id": "743c9a15",
   "metadata": {},
   "source": []
  }
 ],
 "metadata": {
  "kernelspec": {
   "display_name": ".venv (3.13.3)",
   "language": "python",
   "name": "python3"
  },
  "language_info": {
   "codemirror_mode": {
    "name": "ipython",
    "version": 3
   },
   "file_extension": ".py",
   "mimetype": "text/x-python",
   "name": "python",
   "nbconvert_exporter": "python",
   "pygments_lexer": "ipython3",
   "version": "3.13.3"
  }
 },
 "nbformat": 4,
 "nbformat_minor": 5
}
